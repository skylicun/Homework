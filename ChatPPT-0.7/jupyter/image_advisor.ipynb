{
 "cells": [
  {
   "cell_type": "code",
   "execution_count": null,
   "id": "5fa5e5c3-284f-422d-ad2e-2415fb09ce64",
   "metadata": {},
   "outputs": [],
   "source": []
  },
  {
   "cell_type": "markdown",
   "id": "8d0c3980-e0ac-41ea-ac1a-b69bf761e0ba",
   "metadata": {},
   "source": [
    "### 设置 LangSmith 项目名称"
   ]
  },
  {
   "cell_type": "code",
   "execution_count": 1,
   "id": "59d9538c-a63d-4220-8a73-be6d35f2a163",
   "metadata": {},
   "outputs": [],
   "source": [
    "import os\n",
    "\n",
    "os.environ[\"LANGCHAIN_TRACING_V2\"] = \"true\"\n",
    "os.environ[\"LANGCHAIN_PROJECT\"] = \"ChatPPT Jupyter\""
   ]
  },
  {
   "cell_type": "markdown",
   "id": "0b310b2e-76d2-43e3-a2bc-518ce95b2885",
   "metadata": {},
   "source": [
    "### Jupyter 环境设置（与命令行启动保持一致）\n",
    "\n",
    "1. 项目根目录（ChatPPT）为当前工作目录\n",
    "2. 源代码目录添加到 Python 路径"
   ]
  },
  {
   "cell_type": "code",
   "execution_count": 2,
   "id": "d36a92ae-a94a-42ab-8715-e62c22e93430",
   "metadata": {},
   "outputs": [
    {
     "name": "stdout",
     "output_type": "stream",
     "text": [
      "Current working directory: /home/ubuntu/projects/ChatPPT\n"
     ]
    }
   ],
   "source": [
    "# 切换到上一级目录，即项目根目录\n",
    "os.chdir(\"..\")\n",
    "\n",
    "# 验证当前工作目录\n",
    "print(\"Current working directory:\", os.getcwd())"
   ]
  },
  {
   "cell_type": "code",
   "execution_count": 3,
   "id": "b34f45b2-8d66-4c7b-abfc-4a98a53c221a",
   "metadata": {},
   "outputs": [
    {
     "name": "stdout",
     "output_type": "stream",
     "text": [
      "['/home/ubuntu/miniconda3/envs/chatppt/lib/python310.zip', '/home/ubuntu/miniconda3/envs/chatppt/lib/python3.10', '/home/ubuntu/miniconda3/envs/chatppt/lib/python3.10/lib-dynload', '', '/home/ubuntu/miniconda3/envs/chatppt/lib/python3.10/site-packages', '/home/ubuntu/projects/ChatPPT/src']\n"
     ]
    }
   ],
   "source": [
    "import sys\n",
    "\n",
    "# 获取项目源代码目录 src\n",
    "srouce_code_path = os.path.abspath(\"./src\")\n",
    "\n",
    "# 将源代码目录 src 添加到 sys.path\n",
    "sys.path.append(srouce_code_path)\n",
    "\n",
    "# 打印当前 PYTHON 路径\n",
    "print(sys.path)"
   ]
  },
  {
   "cell_type": "markdown",
   "id": "74858849-3c93-45e9-810b-ac1f5734889c",
   "metadata": {},
   "source": [
    "## 自动检索图像，提升 PowerPoint 表达能力\n",
    "\n",
    "### 1. ChatBot 生成纯文本"
   ]
  },
  {
   "cell_type": "code",
   "execution_count": 4,
   "id": "3874846e-f224-46d8-ad96-7dc4b4c5d45e",
   "metadata": {},
   "outputs": [],
   "source": [
    "from config import Config\n",
    "from chatbot import ChatBot\n",
    "\n",
    "config = Config()\n",
    "chatbot = ChatBot(config.chatbot_prompt)"
   ]
  },
  {
   "cell_type": "code",
   "execution_count": 5,
   "id": "05a316d5-62b4-4c87-bce9-538a63aad335",
   "metadata": {},
   "outputs": [
    {
     "name": "stdout",
     "output_type": "stream",
     "text": [
      "**Role**: You are a knowledgeable Chatbot capable of answering a wide range of user questions.\n",
      "\n",
      "**Task**: When responding to user inquiries, format your answers in a presentation-friendly style suited for PowerPoint slides. Organize the content into a structured, slide-by-slide layout with **at least 10 slides**. Ensure each slide is rich in detail and elaboration.\n",
      "\n",
      "**Format**: Structure your responses as follows:\n",
      "\n",
      "```\n",
      "# [Presentation Theme]  // Only once, for the first slide as the presentation's theme\n",
      "\n",
      "## [Slide Title]\n",
      "- [Key point 1]: [Introduction or summary of the point]\n",
      "  - [Detailed explanation covering multiple aspects or subpoints]\n",
      "    - [Specific examples, case studies, or further insights]\n",
      "  - [Additional detail or secondary aspect]\n",
      "    - [Supporting data, quotes, or statistics]\n",
      "- [Key point 2]: [Brief introduction or summary]\n",
      "  - [Expanded description with step-by-step breakdown]\n",
      "    - [Practical application, scenarios, or research findings]\n",
      "\n",
      "## [Slide Title]\n",
      "- [Key point 1]: [Comprehensive explanation]\n",
      "  - [Second Level]: [Elaboration on critical points, providing context or rationale]\n",
      "  - [Second Level]: [Additional insight or perspective]\n",
      "- [Key point 2]: [Clear overview with actionable insights]\n",
      "  - [Second Level]: [Supporting data, strategies, or methods]\n",
      "    - [Third Level]: [Examples or further clarification]\n",
      "```\n",
      "\n",
      "**Guidelines**:\n",
      "- Each response should include **a minimum of 10 slides**.\n",
      "- Ensure that each slide has **multiple detailed points**, with second-level explanations providing thorough descriptions and third-level points adding examples or additional insights.\n",
      "- The **Presentation Theme** should appear only on the first slide, and no images or image URLs are needed.\n",
      "- Response in Chinese.\n"
     ]
    }
   ],
   "source": [
    "print(chatbot.prompt)"
   ]
  },
  {
   "cell_type": "code",
   "execution_count": 6,
   "id": "bcf53954-060e-47ef-bc79-3e73a89d2583",
   "metadata": {},
   "outputs": [],
   "source": [
    "input_text = \"向没有做过股票投资的小白，介绍下纳斯达克\""
   ]
  },
  {
   "cell_type": "code",
   "execution_count": 7,
   "id": "5a5820cf-e1e6-4fc2-94c1-f983b195410f",
   "metadata": {},
   "outputs": [],
   "source": [
    "user_requirement = \"需求如下:\\n\" + input_text"
   ]
  },
  {
   "cell_type": "code",
   "execution_count": 8,
   "id": "4afb26da-d08e-401b-95ef-9658b6b911ed",
   "metadata": {
    "scrolled": true
   },
   "outputs": [
    {
     "name": "stdout",
     "output_type": "stream",
     "text": [
      "2024-11-01 18:58:56 | DEBUG | chatbot:chat_with_history:76 - [ChatBot] # 纳斯达克简介\n",
      "\n",
      "## 纳斯达克概述\n",
      "- **什么是纳斯达克**: 纳斯达克是美国的一个股票交易市场。\n",
      "  - 纳斯达克全称为“全国证券交易商自动报价系统”，成立于1971年，是全球第一个电子股票市场。\n",
      "  - 它主要以科技公司为主，吸引了许多创新型企业上市。\n",
      "- **纳斯达克的功能**: 提供股票交易和信息服务。\n",
      "  - 交易者可以通过电子系统进行股票买卖，提升了交易效率。\n",
      "  - 纳斯达克还提供实时的市场数据和分析工具，帮助投资者做出决策。\n",
      "\n",
      "## 纳斯达克的市场结构\n",
      "- **市场类型**: 纳斯达克是一个场外交易市场（OTC）。\n",
      "  - 与传统的交易所不同，纳斯达克没有物理交易场所，所有交易通过电子系统进行。\n",
      "  - 这种结构使得纳斯达克能够提供更灵活的交易方式。\n",
      "- **上市公司**: 纳斯达克上市公司主要集中在高科技和生物科技领域。\n",
      "  - 例如，知名公司如苹果、亚马逊和谷歌母公司Alphabet均在纳斯达克上市。\n",
      "  - 这些公司通常具有较高的市场增长潜力，吸引了大量投资者。\n",
      "\n",
      "## 纳斯达克的指数\n",
      "- **纳斯达克综合指数**: 反映纳斯达克市场整体表现的主要指数。\n",
      "  - 该指数包含了纳斯达克上市的所有股票，广泛用于衡量市场的健康状况。\n",
      "  - 投资者可以通过观察该指数的变动来判断市场趋势。\n",
      "- **纳斯达克100指数**: 包含100家最大的非金融公司。\n",
      "  - 该指数侧重于大型科技公司，常被视为科技行业的风向标。\n",
      "  - 投资者可以通过该指数了解科技股的整体表现。\n",
      "\n",
      "## 纳斯达克的交易机制\n",
      "- **电子交易系统**: 纳斯达克的交易完全依赖电子系统。\n",
      "  - 交易者通过计算机进行订单的输入和执行，减少了人为错误。\n",
      "  - 该系统支持高频交易，能够快速响应市场变化。\n",
      "- **做市商制度**: 纳斯达克采用做市商制度来提供流动性。\n",
      "  - 做市商是为特定股票提供买卖报价的公司，确保市场有足够的流动性。\n",
      "  - 这种机制帮助投资者在需要时能够迅速买入或卖出股票。\n",
      "\n",
      "## 纳斯达克的投资机会\n",
      "- **高增长潜力**: 纳斯达克上市公司大多具有较高的增长潜力。\n",
      "  - 科技行业的快速发展使得许多公司在短时间内实现了巨额利润。\n",
      "  - 投资者可以通过选择优质科技股获得良好的投资回报。\n",
      "- **多样化投资**: 投资者可以通过纳斯达克实现投资组合的多样化。\n",
      "  - 纳斯达克包含多个行业的公司，投资者可以根据自己的风险偏好选择不同的股票。\n",
      "  - 例如，可以投资于生物科技、云计算、人工智能等领域的公司。\n",
      "\n",
      "## 纳斯达克的风险因素\n",
      "- **市场波动性**: 纳斯达克股票市场波动性较大。\n",
      "  - 科技股受到市场情绪和经济数据的影响，价格波动频繁。\n",
      "  - 投资者需要具备承受市场波动的心理准备。\n",
      "- **行业集中风险**: 纳斯达克以科技股为主，行业集中度较高。\n",
      "  - 如果科技行业出现整体下滑，可能会对纳斯达克产生重大影响。\n",
      "  - 投资者应关注行业动态，避免过于集中于某一行业。\n",
      "\n",
      "## 如何投资纳斯达克\n",
      "- **选择合适的券商**: 投资者需要选择合适的证券公司进行交易。\n",
      "  - 许多在线券商提供纳斯达克股票交易，投资者可以根据费用和服务选择。\n",
      "  - 一些券商还提供模拟交易功能，帮助新手熟悉交易流程。\n",
      "- **研究与分析**: 投资者应进行充分的市场研究与分析。\n",
      "  - 关注公司财务报告、行业趋势和市场新闻，做出明智的投资决策。\n",
      "  - 使用技术分析工具，帮助判断买卖时机。\n",
      "\n",
      "## 纳斯达克的未来展望\n",
      "- **科技创新的推动**: 随着科技的不断发展，纳斯达克将继续吸引新兴企业上市。\n",
      "  - 人工智能、区块链和生物科技等领域的创新将为市场带来新的投资机会。\n",
      "  - 投资者可以关注这些新兴领域的公司，寻找潜在的投资标的。\n",
      "- **全球化趋势**: 纳斯达克在全球范围内的影响力不断增强。\n",
      "  - 越来越多的外国公司选择在纳斯达克上市，扩大了投资者的选择范围。\n",
      "  - 投资者可以通过纳斯达克接触到全球市场的机会。\n",
      "\n",
      "## 总结与建议\n",
      "- **投资前要做好功课**: 对纳斯达克及其上市公司进行深入了解。\n",
      "  - 理解市场机制和行业动态，有助于做出明智的投资决策。\n",
      "- **保持理性与耐心**: 投资股市需保持理性，避免情绪化决策。\n",
      "  - 设定合理的投资目标和风险承受能力，制定适合自己的投资策略。\n"
     ]
    }
   ],
   "source": [
    "slides_content = chatbot.chat_with_history(user_requirement)"
   ]
  },
  {
   "cell_type": "markdown",
   "id": "0b31039f-b4e9-45f3-bc34-04c5d43cab9c",
   "metadata": {},
   "source": [
    "### 2. 基于内容嵌入图像"
   ]
  },
  {
   "cell_type": "code",
   "execution_count": 10,
   "id": "9dc45c11-046c-47be-a4b1-64100c7ffab1",
   "metadata": {},
   "outputs": [],
   "source": [
    "from langchain_openai import ChatOpenAI\n",
    "from langchain_core.prompts import ChatPromptTemplate  # 导入提示模板相关类\n",
    "from langchain_core.messages import HumanMessage  # 导入消息类"
   ]
  },
  {
   "cell_type": "code",
   "execution_count": 11,
   "id": "aac0ade6-ec8e-4b6d-a602-33d0db61a458",
   "metadata": {},
   "outputs": [],
   "source": [
    "with open(\"prompts/image_advisor.txt\", \"r\", encoding=\"utf-8\") as file:\n",
    "    system_prompt = file.read().strip()"
   ]
  },
  {
   "cell_type": "code",
   "execution_count": 12,
   "id": "1ec3193f-f850-4308-82c0-da31c561f9dc",
   "metadata": {},
   "outputs": [],
   "source": [
    "chat_prompt = ChatPromptTemplate.from_messages([\n",
    "    (\"system\", system_prompt),  # 系统提示部分\n",
    "    (\"human\", \"**Content**:\\n\\n{input}\"),  # 消息占位符\n",
    "])"
   ]
  },
  {
   "cell_type": "code",
   "execution_count": 13,
   "id": "91b373ef-f1f6-4066-a3a0-1cd359bcc166",
   "metadata": {},
   "outputs": [],
   "source": [
    "chat_model = ChatOpenAI(\n",
    "            model=\"gpt-4o-mini\",\n",
    "            temperature=0.7,\n",
    "            max_tokens=4096,\n",
    "        )"
   ]
  },
  {
   "cell_type": "code",
   "execution_count": 14,
   "id": "71f60a40-dff8-47a4-9c41-4a844fb29339",
   "metadata": {},
   "outputs": [],
   "source": [
    "image_advisor = chat_prompt | chat_model"
   ]
  },
  {
   "cell_type": "code",
   "execution_count": 15,
   "id": "638ca646-a955-4d92-8d93-e850bbc9750d",
   "metadata": {},
   "outputs": [],
   "source": [
    "response = image_advisor.invoke(\n",
    "    {\n",
    "        \"input\": slides_content\n",
    "    }\n",
    ")"
   ]
  },
  {
   "cell_type": "code",
   "execution_count": 16,
   "id": "e29d2465-1583-4550-bab1-d13988de2252",
   "metadata": {},
   "outputs": [
    {
     "name": "stdout",
     "output_type": "stream",
     "text": [
      "[纳斯达克概述]: 股票市场电子交易  \n",
      "[纳斯达克的市场结构]: 高科技公司  \n",
      "[纳斯达克的未来展望]: 科技创新与投资机会  \n"
     ]
    }
   ],
   "source": [
    "print(response.content)"
   ]
  },
  {
   "cell_type": "markdown",
   "id": "4dde15dd-2440-4533-9283-966f730bd1d3",
   "metadata": {},
   "source": [
    "### 3. 搜索引擎检索图像（关键词由大模型生成）"
   ]
  },
  {
   "cell_type": "code",
   "execution_count": 68,
   "id": "4d4eda9f-60b4-420a-b436-10627e1885cb",
   "metadata": {},
   "outputs": [
    {
     "name": "stdout",
     "output_type": "stream",
     "text": [
      "{'纳斯达克概述': '股票市场电子交易', '纳斯达克的市场结构': '高科技公司', '纳斯达克的未来展望': '科技创新与投资机会'}\n"
     ]
    }
   ],
   "source": [
    "import re\n",
    "\n",
    "# 使用正则表达式提取方括号中的内容和后面的关键词\n",
    "pairs = re.findall(r'\\[(.+?)\\]:\\s*(.+)', response.content)\n",
    "\n",
    "# 将提取的结果转换为字典，并去除键和值前后的空格\n",
    "keywords = {key.strip(): value.strip() for key, value in pairs}\n",
    "\n",
    "\n",
    "# 打印提取出的关键词\n",
    "print(keywords)"
   ]
  },
  {
   "cell_type": "code",
   "execution_count": 71,
   "id": "b54e170e-5876-4efb-ad76-5d843af6dccf",
   "metadata": {},
   "outputs": [],
   "source": [
    "import requests\n",
    "from bs4 import BeautifulSoup\n",
    "from PIL import Image\n",
    "from io import BytesIO\n",
    "\n",
    "def get_bing_images(slide_title, query, num_images=5):\n",
    "    # 构造 Bing 图像搜索 URL\n",
    "    url = f\"https://www.bing.com/images/search?q={query}\"\n",
    "\n",
    "    # 添加 HTTP 请求头，模拟浏览器请求\n",
    "    headers = {\n",
    "        \"User-Agent\": \"Mozilla/5.0 (Windows NT 10.0; Win64; x64) AppleWebKit/537.36 (KHTML, like Gecko) Chrome/87.0.4280.88 Safari/537.36\"\n",
    "    }\n",
    "\n",
    "    # 发送请求\n",
    "    response = requests.get(url, headers=headers)\n",
    "\n",
    "    # 检查响应状态码\n",
    "    if response.status_code != 200:\n",
    "        print(\"Error fetching page:\", response.status_code)\n",
    "        return []\n",
    "\n",
    "    # 解析 HTML\n",
    "    soup = BeautifulSoup(response.text, \"html.parser\")\n",
    "\n",
    "    # 使用 CSS 选择器查找图像元素\n",
    "    image_elements = soup.select(\"a.iusc\")\n",
    "\n",
    "    # 提取图像链接\n",
    "    image_links = []\n",
    "    for img in image_elements:\n",
    "        m_data = img.get(\"m\")\n",
    "        if m_data:\n",
    "            m_json = eval(m_data)\n",
    "            if \"murl\" in m_json:\n",
    "                image_links.append(m_json[\"murl\"])\n",
    "        if len(image_links) >= num_images:\n",
    "            break\n",
    "\n",
    "    # 获取图像分辨率并存储为字典\n",
    "    image_data = []\n",
    "    for link in image_links:\n",
    "        try:\n",
    "            # 下载图像\n",
    "            img_data = requests.get(link, headers=headers)\n",
    "            img = Image.open(BytesIO(img_data.content))\n",
    "            # 将信息存储为字典\n",
    "            image_info = {\n",
    "                \"slide_title\": slide_title,\n",
    "                \"query\": query,\n",
    "                \"width\": img.width,\n",
    "                \"height\": img.height,\n",
    "                \"resolution\": img.width * img.height,  # 宽度 x 高度\n",
    "                \"obj\": img,\n",
    "            }\n",
    "            image_data.append(image_info)\n",
    "        except Exception as e:\n",
    "            print(f\"Could not retrieve image resolution for {link}: {e}\")\n",
    "\n",
    "    # 按分辨率从大到小排序\n",
    "    sorted_images = sorted(image_data, key=lambda x: x[\"resolution\"], reverse=True)\n",
    "\n",
    "    return sorted_images\n"
   ]
  },
  {
   "cell_type": "code",
   "execution_count": 72,
   "id": "3a6f522e-bb0c-4f7c-a6dc-180e8f73c8dd",
   "metadata": {},
   "outputs": [
    {
     "name": "stdout",
     "output_type": "stream",
     "text": [
      "第一个键是: 纳斯达克概述\n",
      "对应的值是: 股票市场电子交易\n"
     ]
    }
   ],
   "source": [
    "# 获取字典中第一个键值对\n",
    "first_slide = next(iter(keywords))\n",
    "first_query = keywords[first_slide]\n",
    "\n",
    "print(f\"第一个键是: {first_slide}\")\n",
    "print(f\"对应的值是: {first_query}\")"
   ]
  },
  {
   "cell_type": "code",
   "execution_count": 54,
   "id": "003ba006-dbff-4aa5-95ee-2a16dd021b29",
   "metadata": {},
   "outputs": [],
   "source": [
    "os.environ[\"LANGCHAIN_TRACING_V2\"] = \"true\"\n",
    "os.environ[\"LANGCHAIN_PROJECT\"] = \"ChatPPT Jupyter\""
   ]
  },
  {
   "cell_type": "code",
   "execution_count": 73,
   "id": "7821a7e1-b9e7-414c-bd54-a1c0c21f6dc9",
   "metadata": {},
   "outputs": [],
   "source": [
    "# 搜索关键词\n",
    "images = get_bing_images(first_slide, first_query)"
   ]
  },
  {
   "cell_type": "markdown",
   "id": "1cbe57b4-2b0f-45d8-b478-4b508474b5f1",
   "metadata": {},
   "source": [
    "### 4. 保存检索的图像，并查看图像文件"
   ]
  },
  {
   "cell_type": "code",
   "execution_count": 74,
   "id": "2065caaa-aa92-41d6-bcaa-a0e50733f5de",
   "metadata": {},
   "outputs": [
    {
     "name": "stdout",
     "output_type": "stream",
     "text": [
      "Name: 纳斯达克概述, Query: 股票市场电子交易 分辨率：1920x1080\n",
      "Name: 纳斯达克概述, Query: 股票市场电子交易 分辨率：860x574\n",
      "Name: 纳斯达克概述, Query: 股票市场电子交易 分辨率：860x572\n",
      "Name: 纳斯达克概述, Query: 股票市场电子交易 分辨率：860x535\n",
      "Name: 纳斯达克概述, Query: 股票市场电子交易 分辨率：601x406\n"
     ]
    }
   ],
   "source": [
    "# 检查并输出图像链接和分辨率\n",
    "if images:\n",
    "    # 检查并输出图像数据\n",
    "    for image in images:\n",
    "        print(f\"Name: {image['slide_title']}, Query: {image['query']} 分辨率：{image['width']}x{image['height']}\")\n",
    "else:\n",
    "    print(\"No images found.\")"
   ]
  },
  {
   "cell_type": "code",
   "execution_count": 57,
   "id": "70d0f78d-a19c-4eeb-bda4-eec405ca7cd4",
   "metadata": {},
   "outputs": [],
   "source": [
    "from PIL import Image\n",
    "import os\n",
    "\n",
    "def save_image(img, save_path, format=\"JPEG\", quality=85, max_size=1080):\n",
    "    try:\n",
    "        # 调整分辨率，保持长宽比\n",
    "        width, height = img.size\n",
    "        if max(width, height) > max_size:\n",
    "            scaling_factor = max_size / max(width, height)\n",
    "            new_width = int(width * scaling_factor)\n",
    "            new_height = int(height * scaling_factor)\n",
    "            img = img.resize((new_width, new_height), Image.Resampling.LANCZOS)\n",
    "        \n",
    "        # 设置保存选项\n",
    "        save_options = {\n",
    "            \"quality\": quality,        # 设置图像质量\n",
    "            \"optimize\": True           # 启用优化以减小文件大小\n",
    "        }\n",
    "        \n",
    "        # 根据格式设置特定参数\n",
    "        if format == \"JPEG\":\n",
    "            save_options[\"progressive\"] = True  # 使用渐进式加载\n",
    "        elif format == \"PNG\":\n",
    "            # PNG 格式不支持 quality 参数，可选择使用压缩选项\n",
    "            save_options.pop(\"quality\", None)\n",
    "\n",
    "        # 保存图像\n",
    "        img.save(save_path, format=format, **save_options)\n",
    "        print(f\"Image saved as {save_path} in {format} format with quality {quality}.\")\n",
    "    except Exception as e:\n",
    "        print(f\"Failed to save image: {e}\")\n"
   ]
  },
  {
   "cell_type": "code",
   "execution_count": 60,
   "id": "19844e1e-d871-4ba5-a327-b0eeda83f22e",
   "metadata": {},
   "outputs": [
    {
     "name": "stdout",
     "output_type": "stream",
     "text": [
      "Image saved as test/纳斯达克概述_1.jpeg in JPEG format with quality 85.\n",
      "Image saved as test/纳斯达克概述_2.jpeg in JPEG format with quality 85.\n",
      "Image saved as test/纳斯达克概述_3.jpeg in JPEG format with quality 85.\n",
      "Image saved as test/纳斯达克概述_4.jpeg in JPEG format with quality 85.\n",
      "Image saved as test/纳斯达克概述_5.jpeg in JPEG format with quality 85.\n"
     ]
    }
   ],
   "source": [
    "# 保存图像到本地\n",
    "save_directory = \"test\"\n",
    "os.makedirs(save_directory, exist_ok=True)\n",
    "\n",
    "for idx, img in enumerate(images, start=1):\n",
    "    save_path = os.path.join(save_directory, f\"{img['slide_title']}_{idx}.jpeg\")\n",
    "    \n",
    "    # 默认保存为 JPEG 格式\n",
    "    save_image(img[\"obj\"], save_path)\n",
    "\n",
    "    img[\"filepath\"] = save_path\n",
    "    \n",
    "    # 如需保存为 PNG 格式，可以指定 format 参数\n",
    "    # save_path_png = os.path.join(save_directory, f\"image_{idx}.png\")\n",
    "    # save_image(img, save_path_png, format=\"PNG\")\n"
   ]
  },
  {
   "cell_type": "code",
   "execution_count": 65,
   "id": "1cc27318-fb73-4546-aa80-1eb8725a6560",
   "metadata": {},
   "outputs": [
    {
     "data": {
      "image/jpeg": "[encoded data removed]",
      "text/plain": [
       "<IPython.core.display.Image object>"
      ]
     },
     "metadata": {},
     "output_type": "display_data"
    }
   ],
   "source": [
    "from IPython.display import Image, display\n",
    "\n",
    "# 查看分辨率最高的图像\n",
    "display(Image(filename=images[0][\"filepath\"]))"
   ]
  },
  {
   "cell_type": "markdown",
   "id": "57d0953c-d23c-4207-8636-875721dc1d92",
   "metadata": {},
   "source": [
    "### 5. 生成 slide-image 字典，并正确嵌入到原始 PowerPoint 内容中"
   ]
  },
  {
   "cell_type": "code",
   "execution_count": 66,
   "id": "ec8fc586-bb08-4e61-91e5-a7c064195cb5",
   "metadata": {},
   "outputs": [],
   "source": [
    "image_pair = {}"
   ]
  },
  {
   "cell_type": "code",
   "execution_count": 75,
   "id": "6897e875-393b-4bc4-b8c9-bdddc3e63fd1",
   "metadata": {},
   "outputs": [
    {
     "name": "stdout",
     "output_type": "stream",
     "text": [
      "纳斯达克概述 股票市场电子交易\n",
      "Name: 纳斯达克概述, Query: 股票市场电子交易 分辨率：1920x1080\n",
      "Name: 纳斯达克概述, Query: 股票市场电子交易 分辨率：860x572\n",
      "Name: 纳斯达克概述, Query: 股票市场电子交易 分辨率：860x535\n",
      "Image saved as test/纳斯达克概述_1.jpeg in JPEG format with quality 85.\n",
      "纳斯达克的市场结构 高科技公司\n",
      "Name: 纳斯达克的市场结构, Query: 高科技公司 分辨率：2048x1536\n",
      "Name: 纳斯达克的市场结构, Query: 高科技公司 分辨率：1024x681\n",
      "Name: 纳斯达克的市场结构, Query: 高科技公司 分辨率：799x529\n",
      "Image saved as test/纳斯达克的市场结构_1.jpeg in JPEG format with quality 85.\n",
      "纳斯达克的未来展望 科技创新与投资机会\n",
      "Name: 纳斯达克的未来展望, Query: 科技创新与投资机会 分辨率：820x1957\n",
      "Name: 纳斯达克的未来展望, Query: 科技创新与投资机会 分辨率：750x1125\n",
      "Name: 纳斯达克的未来展望, Query: 科技创新与投资机会 分辨率：700x1080\n",
      "Image saved as test/纳斯达克的未来展望_1.jpeg in JPEG format with quality 85.\n"
     ]
    }
   ],
   "source": [
    "for slide_title, query in keywords.items():\n",
    "    print(slide_title, query)\n",
    "    # 检索 3张 图像\n",
    "    images = get_bing_images(slide_title, query, 3)\n",
    "    if images:\n",
    "        # 检查并输出图像数据\n",
    "        for image in images:\n",
    "            print(f\"Name: {image['slide_title']}, Query: {image['query']} 分辨率：{image['width']}x{image['height']}\")\n",
    "    else:\n",
    "        print(f\"No images found for {slide_title}.\")\n",
    "        continue\n",
    "\n",
    "    # 仅处理分辨率最高的图像\n",
    "    img = images[0]\n",
    "    \n",
    "    # 保存图像到本地\n",
    "    save_directory = \"test\"\n",
    "    os.makedirs(save_directory, exist_ok=True)\n",
    "    save_path = os.path.join(save_directory, f\"{img['slide_title']}_1.jpeg\")\n",
    "    # 默认保存为 JPEG 格式\n",
    "    save_image(img[\"obj\"], save_path)\n",
    "\n",
    "    # 新增slide-image 到 image_pair\n",
    "    image_pair[img[\"slide_title\"]] = save_path"
   ]
  },
  {
   "cell_type": "code",
   "execution_count": 76,
   "id": "a3755a73-bd94-4a22-9ebe-0ff9954d37f5",
   "metadata": {},
   "outputs": [
    {
     "data": {
      "text/plain": [
       "{'纳斯达克概述': 'test/纳斯达克概述_1.jpeg',\n",
       " '纳斯达克的市场结构': 'test/纳斯达克的市场结构_1.jpeg',\n",
       " '纳斯达克的未来展望': 'test/纳斯达克的未来展望_1.jpeg'}"
      ]
     },
     "execution_count": 76,
     "metadata": {},
     "output_type": "execute_result"
    }
   ],
   "source": [
    "image_pair"
   ]
  },
  {
   "cell_type": "code",
   "execution_count": 77,
   "id": "2822cb31-9807-4835-a956-4dc220c8b4f8",
   "metadata": {},
   "outputs": [],
   "source": [
    "def insert_images(markdown_content, image_pair):\n",
    "    # 将原始 Markdown 内容按行分割\n",
    "    lines = markdown_content.split('\\n')\n",
    "    new_lines = []\n",
    "    i = 0\n",
    "    while i < len(lines):\n",
    "        line = lines[i]\n",
    "        new_lines.append(line)\n",
    "        # 检查是否为幻灯片标题行（以 '## ' 开头）\n",
    "        if line.startswith('## '):\n",
    "            # 提取幻灯片标题\n",
    "            slide_title = line[3:].strip()\n",
    "            # 如果幻灯片标题在 image_pair 中，插入对应的图像\n",
    "            if slide_title in image_pair:\n",
    "                image_path = image_pair[slide_title]\n",
    "                # 按照 Markdown 图像格式插入\n",
    "                image_markdown = f'![{slide_title}]({image_path})'\n",
    "                new_lines.append(image_markdown)\n",
    "        i += 1\n",
    "    # 将修改后的内容重新组合为字符串\n",
    "    new_content = '\\n'.join(new_lines)\n",
    "    return new_content"
   ]
  },
  {
   "cell_type": "code",
   "execution_count": 81,
   "id": "f08eecca-0943-4143-baab-57bf0db54694",
   "metadata": {},
   "outputs": [],
   "source": [
    "new_content = insert_images(slides_content, image_pair)"
   ]
  },
  {
   "cell_type": "code",
   "execution_count": 83,
   "id": "cec58fb0-a3b4-4670-ba4f-bb60382b80f5",
   "metadata": {},
   "outputs": [
    {
     "name": "stdout",
     "output_type": "stream",
     "text": [
      "# 纳斯达克简介\n",
      "\n",
      "## 纳斯达克概述\n",
      "![纳斯达克概述](test/纳斯达克概述_1.jpeg)\n",
      "- **什么是纳斯达克**: 纳斯达克是美国的一个股票交易市场。\n",
      "  - 纳斯达克全称为“全国证券交易商自动报价系统”，成立于1971年，是全球第一个电子股票市场。\n",
      "  - 它主要以科技公司为主，吸引了许多创新型企业上市。\n",
      "- **纳斯达克的功能**: 提供股票交易和信息服务。\n",
      "  - 交易者可以通过电子系统进行股票买卖，提升了交易效率。\n",
      "  - 纳斯达克还提供实时的市场数据和分析工具，帮助投资者做出决策。\n",
      "\n",
      "## 纳斯达克的市场结构\n",
      "![纳斯达克的市场结构](test/纳斯达克的市场结构_1.jpeg)\n",
      "- **市场类型**: 纳斯达克是一个场外交易市场（OTC）。\n",
      "  - 与传统的交易所不同，纳斯达克没有物理交易场所，所有交易通过电子系统进行。\n",
      "  - 这种结构使得纳斯达克能够提供更灵活的交易方式。\n",
      "- **上市公司**: 纳斯达克上市公司主要集中在高科技和生物科技领域。\n",
      "  - 例如，知名公司如苹果、亚马逊和谷歌母公司Alphabet均在纳斯达克上市。\n",
      "  - 这些公司通常具有较高的市场增长潜力，吸引了大量投资者。\n",
      "\n",
      "## 纳斯达克的指数\n",
      "- **纳斯达克综合指数**: 反映纳斯达克市场整体表现的主要指数。\n",
      "  - 该指数包含了纳斯达克上市的所有股票，广泛用于衡量市场的健康状况。\n",
      "  - 投资者可以通过观察该指数的变动来判断市场趋势。\n",
      "- **纳斯达克100指数**: 包含100家最大的非金融公司。\n",
      "  - 该指数侧重于大型科技公司，常被视为科技行业的风向标。\n",
      "  - 投资者可以通过该指数了解科技股的整体表现。\n",
      "\n",
      "## 纳斯达克的交易机制\n",
      "- **电子交易系统**: 纳斯达克的交易完全依赖电子系统。\n",
      "  - 交易者通过计算机进行订单的输入和执行，减少了人为错误。\n",
      "  - 该系统支持高频交易，能够快速响应市场变化。\n",
      "- **做市商制度**: 纳斯达克采用做市商制度来提供流动性。\n",
      "  - 做市商是为特定股票提供买卖报价的公司，确保市场有足够的流动性。\n",
      "  - 这种机制帮助投资者在需要时能够迅速买入或卖出股票。\n",
      "\n",
      "## 纳斯达克的投资机会\n",
      "- **高增长潜力**: 纳斯达克上市公司大多具有较高的增长潜力。\n",
      "  - 科技行业的快速发展使得许多公司在短时间内实现了巨额利润。\n",
      "  - 投资者可以通过选择优质科技股获得良好的投资回报。\n",
      "- **多样化投资**: 投资者可以通过纳斯达克实现投资组合的多样化。\n",
      "  - 纳斯达克包含多个行业的公司，投资者可以根据自己的风险偏好选择不同的股票。\n",
      "  - 例如，可以投资于生物科技、云计算、人工智能等领域的公司。\n",
      "\n",
      "## 纳斯达克的风险因素\n",
      "- **市场波动性**: 纳斯达克股票市场波动性较大。\n",
      "  - 科技股受到市场情绪和经济数据的影响，价格波动频繁。\n",
      "  - 投资者需要具备承受市场波动的心理准备。\n",
      "- **行业集中风险**: 纳斯达克以科技股为主，行业集中度较高。\n",
      "  - 如果科技行业出现整体下滑，可能会对纳斯达克产生重大影响。\n",
      "  - 投资者应关注行业动态，避免过于集中于某一行业。\n",
      "\n",
      "## 如何投资纳斯达克\n",
      "- **选择合适的券商**: 投资者需要选择合适的证券公司进行交易。\n",
      "  - 许多在线券商提供纳斯达克股票交易，投资者可以根据费用和服务选择。\n",
      "  - 一些券商还提供模拟交易功能，帮助新手熟悉交易流程。\n",
      "- **研究与分析**: 投资者应进行充分的市场研究与分析。\n",
      "  - 关注公司财务报告、行业趋势和市场新闻，做出明智的投资决策。\n",
      "  - 使用技术分析工具，帮助判断买卖时机。\n",
      "\n",
      "## 纳斯达克的未来展望\n",
      "![纳斯达克的未来展望](test/纳斯达克的未来展望_1.jpeg)\n",
      "- **科技创新的推动**: 随着科技的不断发展，纳斯达克将继续吸引新兴企业上市。\n",
      "  - 人工智能、区块链和生物科技等领域的创新将为市场带来新的投资机会。\n",
      "  - 投资者可以关注这些新兴领域的公司，寻找潜在的投资标的。\n",
      "- **全球化趋势**: 纳斯达克在全球范围内的影响力不断增强。\n",
      "  - 越来越多的外国公司选择在纳斯达克上市，扩大了投资者的选择范围。\n",
      "  - 投资者可以通过纳斯达克接触到全球市场的机会。\n",
      "\n",
      "## 总结与建议\n",
      "- **投资前要做好功课**: 对纳斯达克及其上市公司进行深入了解。\n",
      "  - 理解市场机制和行业动态，有助于做出明智的投资决策。\n",
      "- **保持理性与耐心**: 投资股市需保持理性，避免情绪化决策。\n",
      "  - 设定合理的投资目标和风险承受能力，制定适合自己的投资策略。\n"
     ]
    }
   ],
   "source": [
    "print(new_content)"
   ]
  },
  {
   "cell_type": "code",
   "execution_count": null,
   "id": "3951353b-5cfb-42c8-b76a-945e2ac32e8d",
   "metadata": {},
   "outputs": [],
   "source": []
  }
 ],
 "metadata": {
  "kernelspec": {
   "display_name": "Python 3 (ipykernel)",
   "language": "python",
   "name": "python3"
  },
  "language_info": {
   "codemirror_mode": {
    "name": "ipython",
    "version": 3
   },
   "file_extension": ".py",
   "mimetype": "text/x-python",
   "name": "python",
   "nbconvert_exporter": "python",
   "pygments_lexer": "ipython3",
   "version": "3.10.15"
  }
 },
 "nbformat": 4,
 "nbformat_minor": 5
}
