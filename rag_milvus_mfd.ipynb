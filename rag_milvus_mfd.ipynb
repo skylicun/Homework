{
 "cells": [
  {
   "cell_type": "markdown",
   "id": "20549885",
   "metadata": {},
   "source": [
    "# 使用 Milvus 和 DeepSeek 构建 RAG\n",
    "\n",
    "DeepSeek 帮助开发者使用高性能语言模型构建和扩展 AI 应用。它提供高效的推理、灵活的 API 以及先进的专家混合 (MoE) 架构，用于强大的推理和检索任务。\n",
    "\n",
    "在本教程中，我们将展示如何使用 Milvus 和 DeepSeek 构建一个检索增强生成 (RAG) 管道。"
   ]
  },
  {
   "cell_type": "code",
   "execution_count": 1,
   "id": "375ad823",
   "metadata": {},
   "outputs": [],
   "source": [
    "import os\n",
    "\n",
    "# 从环境变量获取 DeepSeek API Key\n",
    "api_key = os.getenv(\"DEEPSEEK_API_KEY\")"
   ]
  },
  {
   "cell_type": "markdown",
   "id": "db44bb26",
   "metadata": {},
   "source": [
    "### 准备数据民法典"
   ]
  },
  {
   "cell_type": "code",
   "execution_count": 2,
   "id": "c9035a5f",
   "metadata": {},
   "outputs": [],
   "source": [
    "from glob import glob\n",
    "\n",
    "text_lines = []\n",
    "\n",
    "for file_path in glob(\"mfd.md\", recursive=True):\n",
    "    with open(file_path, \"r\") as file:\n",
    "        file_text = file.read()\n",
    "\n",
    "    text_lines += file_text.split(\"#### \")"
   ]
  },
  {
   "cell_type": "code",
   "execution_count": 3,
   "id": "01b73e74-ee7d-4daf-b7db-1c7a10bfc0bf",
   "metadata": {},
   "outputs": [
    {
     "data": {
      "text/plain": [
       "27"
      ]
     },
     "execution_count": 3,
     "metadata": {},
     "output_type": "execute_result"
    }
   ],
   "source": [
    "len(text_lines)"
   ]
  },
  {
   "cell_type": "markdown",
   "id": "4cc2a0b8",
   "metadata": {},
   "source": [
    "### 准备 LLM 和 Embedding 模型"
   ]
  },
  {
   "cell_type": "markdown",
   "id": "19eaff7a",
   "metadata": {},
   "source": [
    "DeepSeek 支持 OpenAI 风格的 API，您可以使用相同的 API 进行微小调整来调用 LLM。"
   ]
  },
  {
   "cell_type": "code",
   "execution_count": 4,
   "id": "b994eb47",
   "metadata": {},
   "outputs": [],
   "source": [
    "from openai import OpenAI\n",
    "\n",
    "deepseek_client = OpenAI(\n",
    "    api_key=api_key,\n",
    "    base_url=\"https://dashscope.aliyuncs.com/compatible-mode/v1\",  # DeepSeek API 的基地址\n",
    ")"
   ]
  },
  {
   "cell_type": "markdown",
   "id": "1cc5a5e2",
   "metadata": {},
   "source": [
    "定义一个 embedding 模型，使用 `milvus_model` 来生成文本嵌入。我们以 `DefaultEmbeddingFunction` 模型为例，这是一个预训练的轻量级嵌入模型。"
   ]
  },
  {
   "cell_type": "code",
   "execution_count": 5,
   "id": "3a94242a",
   "metadata": {},
   "outputs": [
    {
     "name": "stderr",
     "output_type": "stream",
     "text": [
      "/root/anaconda3/envs/deepseek/lib/python3.13/site-packages/tqdm/auto.py:21: TqdmWarning: IProgress not found. Please update jupyter and ipywidgets. See https://ipywidgets.readthedocs.io/en/stable/user_install.html\n",
      "  from .autonotebook import tqdm as notebook_tqdm\n"
     ]
    }
   ],
   "source": [
    "from pymilvus import model as milvus_model\n",
    "\n",
    "embedding_model = milvus_model.DefaultEmbeddingFunction()"
   ]
  },
  {
   "cell_type": "markdown",
   "id": "93fb1696",
   "metadata": {},
   "source": [
    "生成一个测试嵌入并打印其维度和前几个元素。"
   ]
  },
  {
   "cell_type": "code",
   "execution_count": 6,
   "id": "88a27567",
   "metadata": {},
   "outputs": [
    {
     "name": "stdout",
     "output_type": "stream",
     "text": [
      "768\n",
      "[-0.00993222  0.04682298 -0.03675228 -0.08068266 -0.02617284  0.0037349\n",
      "  0.00990155 -0.08762875 -0.01553682  0.05377049]\n"
     ]
    }
   ],
   "source": [
    "test_embedding = embedding_model.encode_queries([\"建设用地使用权\"])[0]\n",
    "embedding_dim = len(test_embedding)\n",
    "print(embedding_dim)\n",
    "print(test_embedding[:10])"
   ]
  },
  {
   "cell_type": "code",
   "execution_count": 7,
   "id": "f7683f3a-d9e4-4c8e-9a66-c341911bef6b",
   "metadata": {},
   "outputs": [
    {
     "name": "stdout",
     "output_type": "stream",
     "text": [
      "[-0.00993222  0.04682298 -0.03675228 -0.08068266 -0.02617284  0.0037349\n",
      "  0.00990155 -0.08762875 -0.01553682  0.05377049]\n"
     ]
    }
   ],
   "source": [
    "test_embedding_0 = embedding_model.encode_queries([\"建设用地使用权\"])[0]\n",
    "print(test_embedding_0[:10])"
   ]
  },
  {
   "cell_type": "markdown",
   "id": "5a778887",
   "metadata": {},
   "source": [
    "## 将数据加载到 Milvus"
   ]
  },
  {
   "cell_type": "markdown",
   "id": "02b23a24",
   "metadata": {},
   "source": [
    "### 创建 Collection"
   ]
  },
  {
   "cell_type": "code",
   "execution_count": 8,
   "id": "95e84b8c",
   "metadata": {},
   "outputs": [],
   "source": [
    "from pymilvus import MilvusClient\n",
    "\n",
    "milvus_client = MilvusClient(uri=\"./milvus_mfd.db\")\n",
    "\n",
    "collection_name = \"my_rag_mfd_collection\""
   ]
  },
  {
   "cell_type": "markdown",
   "id": "68648561",
   "metadata": {},
   "source": [
    "关于 `MilvusClient` 的参数：\n",
    "\n",
    "*   将 `uri` 设置为本地文件，例如 `./milvus.db`，是最方便的方法，因为它会自动利用 Milvus Lite 将所有数据存储在此文件中。\n",
    "*   如果您有大规模数据，可以在 Docker 或 Kubernetes 上设置性能更高的 Milvus 服务器。在此设置中，请使用服务器 URI，例如 `http://localhost:19530`，作为您的 `uri`。\n",
    "*   如果您想使用 Zilliz Cloud（Milvus 的完全托管云服务），请调整 `uri` 和 `token`，它们对应 Zilliz Cloud 中的 Public Endpoint 和 Api key。"
   ]
  },
  {
   "cell_type": "markdown",
   "id": "5ce1bf3e",
   "metadata": {},
   "source": [
    "检查 collection 是否已存在，如果存在则删除它。"
   ]
  },
  {
   "cell_type": "code",
   "execution_count": 9,
   "id": "aee85c08",
   "metadata": {},
   "outputs": [],
   "source": [
    "if milvus_client.has_collection(collection_name):\n",
    "    milvus_client.drop_collection(collection_name)"
   ]
  },
  {
   "cell_type": "markdown",
   "id": "73eb379f",
   "metadata": {},
   "source": [
    "创建一个具有指定参数的新 collection。\n",
    "\n",
    "如果我们不指定任何字段信息，Milvus 将自动创建一个默认的 `id` 字段作为主键，以及一个 `vector` 字段来存储向量数据。一个保留的 JSON 字段用于存储非 schema 定义的字段及其值。\n",
    "\n",
    "`metric_type` (距离度量类型):\n",
    "     作用：定义如何计算向量之间的相似程度。\n",
    "     例如：`IP` (内积) - 值越大通常越相似；`L2` (欧氏距离) - 值越小越相似；`COSINE` (余弦相似度) - 通常转换为距离，值越小越相似。\n",
    "     选择依据：根据你的嵌入模型的特性和期望的相似性定义来选择。\n",
    "\n",
    " `consistency_level` (一致性级别):\n",
    "     作用：定义数据写入后，读取操作能多快看到这些新数据。\n",
    "     例如：\n",
    "         `Strong` (强一致性): 总是读到最新数据，可能稍慢。\n",
    "         `Bounded` (有界过期): 可能读到几秒内旧数据，性能较好 (默认)。\n",
    "         `Session` (会话一致性): 自己写入的自己能立刻读到。\n",
    "         `Eventually` (最终一致性): 最终会读到新数据，但没时间保证，性能最好。\n",
    "     选择依据：在数据实时性要求和系统性能之间做权衡。\n",
    "\n",
    "简单来说：\n",
    " `metric_type`：怎么算相似。\n",
    " `consistency_level`：新数据多久能被读到。"
   ]
  },
  {
   "cell_type": "code",
   "execution_count": 10,
   "id": "bd0b2df8",
   "metadata": {},
   "outputs": [],
   "source": [
    "milvus_client.create_collection(\n",
    "    collection_name=collection_name,\n",
    "    dimension=embedding_dim,\n",
    "    metric_type=\"IP\",  # 内积距离\n",
    "    consistency_level=\"Strong\",  # 支持的值为 (`\"Strong\"`, `\"Session\"`, `\"Bounded\"`, `\"Eventually\"`)。更多详情请参见 https://milvus.io/docs/consistency.md#Consistency-Level。\n",
    ")"
   ]
  },
  {
   "cell_type": "markdown",
   "id": "9c15bafb",
   "metadata": {},
   "source": [
    "### 插入数据"
   ]
  },
  {
   "cell_type": "markdown",
   "id": "171d3b35",
   "metadata": {},
   "source": [
    "遍历文本行，创建嵌入，然后将数据插入 Milvus。\n",
    "\n",
    "这里有一个新字段 `text`，它是在 collection schema 中未定义的字段。它将自动添加到保留的 JSON 动态字段中，该字段在高级别上可以被视为普通字段。"
   ]
  },
  {
   "cell_type": "code",
   "execution_count": 11,
   "id": "ad077094",
   "metadata": {},
   "outputs": [
    {
     "name": "stderr",
     "output_type": "stream",
     "text": [
      "Creating embeddings: 100%|██████████| 27/27 [00:00<00:00, 666154.16it/s]\n"
     ]
    },
    {
     "data": {
      "text/plain": [
       "{'insert_count': 27, 'ids': [0, 1, 2, 3, 4, 5, 6, 7, 8, 9, 10, 11, 12, 13, 14, 15, 16, 17, 18, 19, 20, 21, 22, 23, 24, 25, 26], 'cost': 0}"
      ]
     },
     "execution_count": 11,
     "metadata": {},
     "output_type": "execute_result"
    }
   ],
   "source": [
    "from tqdm import tqdm\n",
    "\n",
    "data = []\n",
    "\n",
    "doc_embeddings = embedding_model.encode_documents(text_lines)\n",
    "\n",
    "for i, line in enumerate(tqdm(text_lines, desc=\"Creating embeddings\")):\n",
    "    data.append({\"id\": i, \"vector\": doc_embeddings[i], \"text\": line})\n",
    "\n",
    "milvus_client.insert(collection_name=collection_name, data=data)"
   ]
  },
  {
   "cell_type": "markdown",
   "id": "bd971f6b",
   "metadata": {},
   "source": [
    "## 构建 RAG"
   ]
  },
  {
   "cell_type": "markdown",
   "id": "534dc076",
   "metadata": {},
   "source": [
    "### 检索查询数据"
   ]
  },
  {
   "cell_type": "markdown",
   "id": "5a6fd7e7",
   "metadata": {},
   "source": [
    "我们指定一个关于 Milvus 的常见问题。"
   ]
  },
  {
   "cell_type": "code",
   "execution_count": 12,
   "id": "6e2f5c6a",
   "metadata": {},
   "outputs": [],
   "source": [
    "question = \"担保物权都有哪些规定?\""
   ]
  },
  {
   "cell_type": "markdown",
   "id": "52401a38",
   "metadata": {},
   "source": [
    "在 collection 中搜索该问题，并检索语义上最匹配的前3个结果。"
   ]
  },
  {
   "cell_type": "code",
   "execution_count": 13,
   "id": "0dd4cbac",
   "metadata": {},
   "outputs": [],
   "source": [
    "search_res = milvus_client.search(\n",
    "    collection_name=collection_name,\n",
    "    data=embedding_model.encode_queries(\n",
    "        [question]\n",
    "    ),  # 将问题转换为嵌入向量\n",
    "    limit=3,  # 返回前3个结果\n",
    "    search_params={\"metric_type\": \"IP\", \"params\": {}},  # 内积距离\n",
    "    output_fields=[\"text\"],  # 返回 text 字段\n",
    ")"
   ]
  },
  {
   "cell_type": "markdown",
   "id": "ffcce135",
   "metadata": {},
   "source": [
    "让我们看一下查询的搜索结果"
   ]
  },
  {
   "cell_type": "code",
   "execution_count": 14,
   "id": "6a7f6eb3",
   "metadata": {},
   "outputs": [
    {
     "name": "stdout",
     "output_type": "stream",
     "text": [
      "[\n",
      "    [\n",
      "        \"\\u4e8c\\u3001\\u6743\\u5229\\u8d28\\u6743\\n\\n**\\u7b2c\\u56db\\u767e\\u56db\\u5341\\u4e5d\\u6761** \\u53ef\\u4ee5\\u51fa\\u8d28\\u7684\\u6743\\u5229\\u5305\\u62ec\\uff1a\\n\\uff08\\u4e00\\uff09\\u6c47\\u7968\\u3001\\u672c\\u7968\\u3001\\u652f\\u7968\\uff1b\\n\\uff08\\u4e8c\\uff09\\u503a\\u5238\\u3001\\u5b58\\u6b3e\\u5355\\uff1b\\n\\uff08\\u4e09\\uff09\\u4ed3\\u5355\\u3001\\u63d0\\u5355\\uff1b\\n\\uff08\\u56db\\uff09\\u53ef\\u4ee5\\u8f6c\\u8ba9\\u7684\\u57fa\\u91d1\\u4efd\\u989d\\u3001\\u80a1\\u6743\\uff1b\\n\\uff08\\u4e94\\uff09\\u53ef\\u4ee5\\u8f6c\\u8ba9\\u7684\\u6ce8\\u518c\\u5546\\u6807\\u4e13\\u7528\\u6743\\u3001\\u4e13\\u5229\\u6743\\u3001\\u8457\\u4f5c\\u6743\\u7b49\\u77e5\\u8bc6\\u4ea7\\u6743\\u4e2d\\u7684\\u8d22\\u4ea7\\u6743\\uff1b\\n\\uff08\\u516d\\uff09\\u5e94\\u6536\\u8d26\\u6b3e\\uff1b\\n\\uff08\\u4e03\\uff09\\u6cd5\\u5f8b\\u3001\\u884c\\u653f\\u6cd5\\u89c4\\u89c4\\u5b9a\\u53ef\\u4ee5\\u51fa\\u8d28\\u7684\\u5176\\u4ed6\\u8d22\\u4ea7\\u6743\\u5229\\u3002\\n\\n**\\u7b2c\\u56db\\u767e\\u4e94\\u5341\\u6761** \\u4ee5\\u6c47\\u7968\\u3001\\u672c\\u7968\\u3001\\u652f\\u7968\\u3001\\u503a\\u5238\\u3001\\u5b58\\u6b3e\\u5355\\u3001\\u4ed3\\u5355\\u3001\\u63d0\\u5355\\u51fa\\u8d28\\u7684\\uff0c\\u5f53\\u4e8b\\u4eba\\u5e94\\u5f53\\u8ba2\\u7acb\\u4e66\\u9762\\u5408\\u540c\\u3002\\u8d28\\u6743\\u81ea\\u6743\\u5229\\u51ed\\u8bc1\\u4ea4\\u4ed8\\u4e4b\\u65e5\\u8d77\\u8bbe\\u7acb\\u3002\\n\\n**\\u7b2c\\u56db\\u767e\\u4e94\\u5341\\u4e00\\u6761** \\u4ee5\\u8bb0\\u540d\\u80a1\\u7968\\u51fa\\u8d28\\u7684\\uff0c\\u5f53\\u4e8b\\u4eba\\u5e94\\u5f53\\u8ba2\\u7acb\\u4e66\\u9762\\u5408\\u540c\\u3002\\u8d28\\u6743\\u81ea\\u80a1\\u7968\\u4ea4\\u4ed8\\u4e4b\\u65e5\\u8d77\\u8bbe\\u7acb\\u3002\\n\\u4ee5\\u672a\\u4e0a\\u5e02\\u516c\\u53f8\\u80a1\\u6743\\u51fa\\u8d28\\u7684\\uff0c\\u9002\\u7528\\u516c\\u53f8\\u6cd5\\u6709\\u5173\\u80a1\\u6743\\u8f6c\\u8ba9\\u7684\\u89c4\\u5b9a\\u3002\\n\\n**\\u7b2c\\u56db\\u767e\\u4e94\\u5341\\u4e8c\\u6761** \\u4ee5\\u53ef\\u4ee5\\u8f6c\\u8ba9\\u7684\\u57fa\\u91d1\\u4efd\\u989d\\u3001\\u80a1\\u6743\\u51fa\\u8d28\\u7684\\uff0c\\u5f53\\u4e8b\\u4eba\\u5e94\\u5f53\\u8ba2\\u7acb\\u4e66\\u9762\\u5408\\u540c\\u3002\\u8d28\\u6743\\u81ea\\u57fa\\u91d1\\u4efd\\u989d\\u3001\\u80a1\\u6743\\u767b\\u8bb0\\u4e8e\\u8bc1\\u5238\\u767b\\u8bb0\\u7ed3\\u7b97\\u673a\\u6784\\u6216\\u8005\\u516c\\u53f8\\u7ae0\\u7a0b\\u8f7d\\u660e\\u7684\\u80a1\\u6743\\u767b\\u8bb0\\u7c3f\\u65f6\\u8bbe\\u7acb\\u3002\\n\\u4ee5\\u672a\\u4e0a\\u5e02\\u516c\\u53f8\\u80a1\\u6743\\u51fa\\u8d28\\u7684\\uff0c\\u9002\\u7528\\u516c\\u53f8\\u6cd5\\u6709\\u5173\\u80a1\\u6743\\u8f6c\\u8ba9\\u7684\\u89c4\\u5b9a\\u3002\\n\\n**\\u7b2c\\u56db\\u767e\\u4e94\\u5341\\u4e09\\u6761** \\u4ee5\\u53ef\\u4ee5\\u8f6c\\u8ba9\\u7684\\u6ce8\\u518c\\u5546\\u6807\\u4e13\\u7528\\u6743\\u3001\\u4e13\\u5229\\u6743\\u3001\\u8457\\u4f5c\\u6743\\u7b49\\u77e5\\u8bc6\\u4ea7\\u6743\\u4e2d\\u7684\\u8d22\\u4ea7\\u6743\\u51fa\\u8d28\\u7684\\uff0c\\u5f53\\u4e8b\\u4eba\\u5e94\\u5f53\\u8ba2\\u7acb\\u4e66\\u9762\\u5408\\u540c\\u3002\\u8d28\\u6743\\u81ea\\u6743\\u5229\\u8d28\\u62bc\\u767b\\u8bb0\\u4e8e\\u76f8\\u5173\\u90e8\\u95e8\\u65f6\\u8bbe\\u7acb\\u3002\\n\\n**\\u7b2c\\u56db\\u767e\\u4e94\\u5341\\u56db\\u6761** \\u4ee5\\u5e94\\u6536\\u8d26\\u6b3e\\u51fa\\u8d28\\u7684\\uff0c\\u5f53\\u4e8b\\u4eba\\u5e94\\u5f53\\u8ba2\\u7acb\\u4e66\\u9762\\u5408\\u540c\\u3002\\u8d28\\u6743\\u81ea\\u5e94\\u6536\\u8d26\\u6b3e\\u8d28\\u62bc\\u767b\\u8bb0\\u4e8e\\u4e2d\\u56fd\\u4eba\\u6c11\\u94f6\\u884c\\u5f81\\u4fe1\\u4e2d\\u5fc3\\u65f6\\u8bbe\\u7acb\\u3002\\n\\n**\\u7b2c\\u56db\\u767e\\u4e94\\u5341\\u4e94\\u6761** \\u4ee5\\u6cd5\\u5f8b\\u3001\\u884c\\u653f\\u6cd5\\u89c4\\u89c4\\u5b9a\\u53ef\\u4ee5\\u51fa\\u8d28\\u7684\\u5176\\u4ed6\\u8d22\\u4ea7\\u6743\\u5229\\u51fa\\u8d28\\u7684\\uff0c\\u4f9d\\u7167\\u6cd5\\u5f8b\\u3001\\u884c\\u653f\\u6cd5\\u89c4\\u7684\\u89c4\\u5b9a\\u3002\\n\\n**\\u7b2c\\u56db\\u767e\\u4e94\\u5341\\u516d\\u6761** \\u6743\\u5229\\u8d28\\u6743\\u9664\\u9002\\u7528\\u672c\\u8282\\u89c4\\u5b9a\\u5916\\uff0c\\u53c2\\u7167\\u9002\\u7528\\u672c\\u7ae0\\u52a8\\u4ea7\\u8d28\\u6743\\u7684\\u6709\\u5173\\u89c4\\u5b9a\\u3002\\n\\n#\",\n",
      "        0.6195474863052368\n",
      "    ],\n",
      "    [\n",
      "        \"\\u7b2c\\u4e00\\u8282 \\u4e00\\u822c\\u89c4\\u5b9a\\n\\n**\\u7b2c\\u4e09\\u767e\\u4e94\\u5341\\u4e09\\u6761** \\u7528\\u76ca\\u7269\\u6743\\u4eba\\u5bf9\\u4ed6\\u4eba\\u6240\\u6709\\u7684\\u4e0d\\u52a8\\u4ea7\\u6216\\u8005\\u52a8\\u4ea7\\uff0c\\u4f9d\\u6cd5\\u4eab\\u6709\\u5360\\u6709\\u3001\\u4f7f\\u7528\\u548c\\u6536\\u76ca\\u7684\\u6743\\u5229\\u3002\\n\\n**\\u7b2c\\u4e09\\u767e\\u4e94\\u5341\\u56db\\u6761** \\u8bbe\\u7acb\\u7528\\u76ca\\u7269\\u6743\\uff0c\\u5f53\\u4e8b\\u4eba\\u5e94\\u5f53\\u4f9d\\u7167\\u6cd5\\u5f8b\\u89c4\\u5b9a\\u529e\\u7406\\u767b\\u8bb0\\u3002\\n\\u672a\\u7ecf\\u767b\\u8bb0\\uff0c\\u4e0d\\u53d1\\u751f\\u7269\\u6743\\u6548\\u529b\\u3002\\n\\n**\\u7b2c\\u4e09\\u767e\\u4e94\\u5341\\u4e94\\u6761** \\u7528\\u76ca\\u7269\\u6743\\u4eba\\u884c\\u4f7f\\u6743\\u5229\\uff0c\\u4e0d\\u5f97\\u635f\\u5bb3\\u6240\\u6709\\u6743\\u4eba\\u7684\\u5408\\u6cd5\\u6743\\u76ca\\u3002\\n\\u7528\\u76ca\\u7269\\u6743\\u4eba\\u4e0d\\u5f97\\u8f6c\\u8ba9\\u3001\\u51fa\\u79df\\u3001\\u62c5\\u4fdd\\u5176\\u7528\\u76ca\\u7269\\u6743\\u3002\\u6cd5\\u5f8b\\u53e6\\u6709\\u89c4\\u5b9a\\u6216\\u8005\\u5f53\\u4e8b\\u4eba\\u53e6\\u6709\\u7ea6\\u5b9a\\u7684\\u9664\\u5916\\u3002\\n\\n**\\u7b2c\\u4e09\\u767e\\u4e94\\u5341\\u516d\\u6761** \\u7528\\u76ca\\u7269\\u6743\\u6d88\\u706d\\u7684\\uff0c\\u767b\\u8bb0\\u673a\\u6784\\u5e94\\u5f53\\u4f9d\\u6cd5\\u529e\\u7406\\u6ce8\\u9500\\u767b\\u8bb0\\u3002\\n\\n**\\u7b2c\\u4e09\\u767e\\u4e94\\u5341\\u4e03\\u6761** \\u7528\\u76ca\\u7269\\u6743\\u53ef\\u4ee5\\u7531\\u5f53\\u4e8b\\u4eba\\u7ea6\\u5b9a\\u5176\\u5185\\u5bb9\\u3002\\n\\u6cd5\\u5f8b\\u3001\\u884c\\u653f\\u6cd5\\u89c4\\u5bf9\\u7528\\u76ca\\u7269\\u6743\\u6709\\u7279\\u522b\\u89c4\\u5b9a\\u7684\\uff0c\\u4f9d\\u7167\\u5176\\u89c4\\u5b9a\\u3002\\n\\n#\",\n",
      "        0.6098328828811646\n",
      "    ],\n",
      "    [\n",
      "        \"\\u7b2c\\u56db\\u8282 \\u5b85\\u57fa\\u5730\\u4f7f\\u7528\\u6743\\n\\n**\\u7b2c\\u4e09\\u767e\\u4e03\\u5341\\u4e03\\u6761** \\u5b85\\u57fa\\u5730\\u4f7f\\u7528\\u6743\\u4eba\\u4f9d\\u6cd5\\u5bf9\\u96c6\\u4f53\\u6240\\u6709\\u7684\\u571f\\u5730\\u548c\\u56fd\\u5bb6\\u6240\\u6709\\u7531\\u96c6\\u4f53\\u7ecf\\u6d4e\\u7ec4\\u7ec7\\u5206\\u914d\\u7ed9\\u4e2a\\u4eba\\u7684\\u571f\\u5730\\uff0c\\u4eab\\u6709\\u5360\\u6709\\u3001\\u4f7f\\u7528\\u548c\\u6536\\u76ca\\u7684\\u6743\\u5229\\uff0c\\u6709\\u6743\\u5728\\u5b85\\u57fa\\u5730\\u4e0a\\u5efa\\u9020\\u623f\\u5c4b\\u53ca\\u5176\\u9644\\u5c5e\\u8bbe\\u65bd\\u3002\\n\\n**\\u7b2c\\u4e09\\u767e\\u4e03\\u5341\\u516b\\u6761** \\u5b85\\u57fa\\u5730\\u4f7f\\u7528\\u6743\\u7684\\u8bbe\\u7acb\\u3001\\u884c\\u4f7f\\u548c\\u8f6c\\u8ba9\\uff0c\\u9002\\u7528\\u6cd5\\u5f8b\\u3001\\u6cd5\\u89c4\\u7684\\u89c4\\u5b9a\\u3002\\n\\n**\\u7b2c\\u4e09\\u767e\\u4e03\\u5341\\u4e5d\\u6761** \\u5b85\\u57fa\\u5730\\u4f7f\\u7528\\u6743\\u4eba\\u4f9d\\u6cd5\\u4eab\\u6709\\u5b85\\u57fa\\u5730\\u4e0a\\u7684\\u623f\\u5c4b\\u53ca\\u5176\\u9644\\u5c5e\\u8bbe\\u65bd\\u7684\\u6240\\u6709\\u6743\\u3002\\n\\u5b85\\u57fa\\u5730\\u4f7f\\u7528\\u6743\\u4eba\\u6709\\u6743\\u5728\\u5b85\\u57fa\\u5730\\u4e0a\\u5efa\\u9020\\u623f\\u5c4b\\u53ca\\u5176\\u9644\\u5c5e\\u8bbe\\u65bd\\u3002\\n\\n**\\u7b2c\\u4e09\\u767e\\u516b\\u5341\\u6761** \\u5b85\\u57fa\\u5730\\u4f7f\\u7528\\u6743\\u53ef\\u4ee5\\u8f6c\\u8ba9\\u3001\\u4e92\\u6362\\u3001\\u7ee7\\u627f\\u3002\\n\\u8f6c\\u8ba9\\u3001\\u4e92\\u6362\\u5b85\\u57fa\\u5730\\u4f7f\\u7528\\u6743\\u7684\\uff0c\\u5e94\\u5f53\\u4f9d\\u7167\\u6cd5\\u5f8b\\u89c4\\u5b9a\\u529e\\u7406\\u767b\\u8bb0\\u3002\\n\\n**\\u7b2c\\u4e09\\u767e\\u516b\\u5341\\u4e00\\u6761** \\u5b85\\u57fa\\u5730\\u4f7f\\u7528\\u6743\\u6d88\\u706d\\u7684\\uff0c\\u767b\\u8bb0\\u673a\\u6784\\u5e94\\u5f53\\u4f9d\\u6cd5\\u529e\\u7406\\u6ce8\\u9500\\u767b\\u8bb0\\u3002\\n\\u5b85\\u57fa\\u5730\\u4f7f\\u7528\\u6743\\u4eba\\u5e94\\u5f53\\u4f9d\\u7167\\u6cd5\\u5f8b\\u89c4\\u5b9a\\uff0c\\u5411\\u571f\\u5730\\u6240\\u6709\\u6743\\u4eba\\u652f\\u4ed8\\u5b85\\u57fa\\u5730\\u4f7f\\u7528\\u8d39\\u3002\\n\\n#\",\n",
      "        0.6033260822296143\n",
      "    ]\n",
      "]\n"
     ]
    }
   ],
   "source": [
    "import json\n",
    "\n",
    "retrieved_lines_with_distances = [\n",
    "    (res[\"entity\"][\"text\"], res[\"distance\"]) for res in search_res[0]\n",
    "]\n",
    "print(json.dumps(retrieved_lines_with_distances, indent=4))"
   ]
  },
  {
   "cell_type": "markdown",
   "id": "ccd4c186",
   "metadata": {},
   "source": [
    "### 使用 LLM 获取 RAG 响应"
   ]
  },
  {
   "cell_type": "markdown",
   "id": "4cd1ae3a",
   "metadata": {},
   "source": [
    "将检索到的文档转换为字符串格式。"
   ]
  },
  {
   "cell_type": "code",
   "execution_count": 15,
   "id": "0676448f",
   "metadata": {},
   "outputs": [],
   "source": [
    "context = \"\\n\".join(\n",
    "    [line_with_distance[0] for line_with_distance in retrieved_lines_with_distances]\n",
    ")"
   ]
  },
  {
   "cell_type": "code",
   "execution_count": 16,
   "id": "107df42a-b3f7-48a8-b66b-fc82fe3ec174",
   "metadata": {},
   "outputs": [
    {
     "data": {
      "text/plain": [
       "'二、权利质权\\n\\n**第四百四十九条** 可以出质的权利包括：\\n（一）汇票、本票、支票；\\n（二）债券、存款单；\\n（三）仓单、提单；\\n（四）可以转让的基金份额、股权；\\n（五）可以转让的注册商标专用权、专利权、著作权等知识产权中的财产权；\\n（六）应收账款；\\n（七）法律、行政法规规定可以出质的其他财产权利。\\n\\n**第四百五十条** 以汇票、本票、支票、债券、存款单、仓单、提单出质的，当事人应当订立书面合同。质权自权利凭证交付之日起设立。\\n\\n**第四百五十一条** 以记名股票出质的，当事人应当订立书面合同。质权自股票交付之日起设立。\\n以未上市公司股权出质的，适用公司法有关股权转让的规定。\\n\\n**第四百五十二条** 以可以转让的基金份额、股权出质的，当事人应当订立书面合同。质权自基金份额、股权登记于证券登记结算机构或者公司章程载明的股权登记簿时设立。\\n以未上市公司股权出质的，适用公司法有关股权转让的规定。\\n\\n**第四百五十三条** 以可以转让的注册商标专用权、专利权、著作权等知识产权中的财产权出质的，当事人应当订立书面合同。质权自权利质押登记于相关部门时设立。\\n\\n**第四百五十四条** 以应收账款出质的，当事人应当订立书面合同。质权自应收账款质押登记于中国人民银行征信中心时设立。\\n\\n**第四百五十五条** 以法律、行政法规规定可以出质的其他财产权利出质的，依照法律、行政法规的规定。\\n\\n**第四百五十六条** 权利质权除适用本节规定外，参照适用本章动产质权的有关规定。\\n\\n#\\n第一节 一般规定\\n\\n**第三百五十三条** 用益物权人对他人所有的不动产或者动产，依法享有占有、使用和收益的权利。\\n\\n**第三百五十四条** 设立用益物权，当事人应当依照法律规定办理登记。\\n未经登记，不发生物权效力。\\n\\n**第三百五十五条** 用益物权人行使权利，不得损害所有权人的合法权益。\\n用益物权人不得转让、出租、担保其用益物权。法律另有规定或者当事人另有约定的除外。\\n\\n**第三百五十六条** 用益物权消灭的，登记机构应当依法办理注销登记。\\n\\n**第三百五十七条** 用益物权可以由当事人约定其内容。\\n法律、行政法规对用益物权有特别规定的，依照其规定。\\n\\n#\\n第四节 宅基地使用权\\n\\n**第三百七十七条** 宅基地使用权人依法对集体所有的土地和国家所有由集体经济组织分配给个人的土地，享有占有、使用和收益的权利，有权在宅基地上建造房屋及其附属设施。\\n\\n**第三百七十八条** 宅基地使用权的设立、行使和转让，适用法律、法规的规定。\\n\\n**第三百七十九条** 宅基地使用权人依法享有宅基地上的房屋及其附属设施的所有权。\\n宅基地使用权人有权在宅基地上建造房屋及其附属设施。\\n\\n**第三百八十条** 宅基地使用权可以转让、互换、继承。\\n转让、互换宅基地使用权的，应当依照法律规定办理登记。\\n\\n**第三百八十一条** 宅基地使用权消灭的，登记机构应当依法办理注销登记。\\n宅基地使用权人应当依照法律规定，向土地所有权人支付宅基地使用费。\\n\\n#'"
      ]
     },
     "execution_count": 16,
     "metadata": {},
     "output_type": "execute_result"
    }
   ],
   "source": [
    "context"
   ]
  },
  {
   "cell_type": "code",
   "execution_count": 17,
   "id": "19998758-7f98-4cb8-8789-625fcfaad00e",
   "metadata": {},
   "outputs": [
    {
     "data": {
      "text/plain": [
       "'担保物权都有哪些规定?'"
      ]
     },
     "execution_count": 17,
     "metadata": {},
     "output_type": "execute_result"
    }
   ],
   "source": [
    "question"
   ]
  },
  {
   "cell_type": "markdown",
   "id": "7ad25756",
   "metadata": {},
   "source": [
    "为语言模型定义系统和用户提示。此提示是使用从 Milvus 检索到的文档组装而成的。"
   ]
  },
  {
   "cell_type": "code",
   "execution_count": 18,
   "id": "b655f6f3",
   "metadata": {},
   "outputs": [],
   "source": [
    "SYSTEM_PROMPT = \"\"\"\n",
    "Human: 你是一个 AI 助手。你能够从提供的上下文段落片段中找到问题的答案。\n",
    "\"\"\"\n",
    "USER_PROMPT = f\"\"\"\n",
    "请使用以下用 <context> 标签括起来的信息片段来回答用 <question> 标签括起来的问题。最后追加原始回答的中文翻译，并用 <translated>和</translated> 标签标注。\n",
    "<context>\n",
    "{context}\n",
    "</context>\n",
    "<question>\n",
    "{question}\n",
    "</question>\n",
    "<translated>\n",
    "</translated>\n",
    "\"\"\""
   ]
  },
  {
   "cell_type": "code",
   "execution_count": 19,
   "id": "97089c31-f85c-47a9-8498-78520513bc67",
   "metadata": {},
   "outputs": [
    {
     "data": {
      "text/plain": [
       "'\\n请使用以下用 <context> 标签括起来的信息片段来回答用 <question> 标签括起来的问题。最后追加原始回答的中文翻译，并用 <translated>和</translated> 标签标注。\\n<context>\\n二、权利质权\\n\\n**第四百四十九条** 可以出质的权利包括：\\n（一）汇票、本票、支票；\\n（二）债券、存款单；\\n（三）仓单、提单；\\n（四）可以转让的基金份额、股权；\\n（五）可以转让的注册商标专用权、专利权、著作权等知识产权中的财产权；\\n（六）应收账款；\\n（七）法律、行政法规规定可以出质的其他财产权利。\\n\\n**第四百五十条** 以汇票、本票、支票、债券、存款单、仓单、提单出质的，当事人应当订立书面合同。质权自权利凭证交付之日起设立。\\n\\n**第四百五十一条** 以记名股票出质的，当事人应当订立书面合同。质权自股票交付之日起设立。\\n以未上市公司股权出质的，适用公司法有关股权转让的规定。\\n\\n**第四百五十二条** 以可以转让的基金份额、股权出质的，当事人应当订立书面合同。质权自基金份额、股权登记于证券登记结算机构或者公司章程载明的股权登记簿时设立。\\n以未上市公司股权出质的，适用公司法有关股权转让的规定。\\n\\n**第四百五十三条** 以可以转让的注册商标专用权、专利权、著作权等知识产权中的财产权出质的，当事人应当订立书面合同。质权自权利质押登记于相关部门时设立。\\n\\n**第四百五十四条** 以应收账款出质的，当事人应当订立书面合同。质权自应收账款质押登记于中国人民银行征信中心时设立。\\n\\n**第四百五十五条** 以法律、行政法规规定可以出质的其他财产权利出质的，依照法律、行政法规的规定。\\n\\n**第四百五十六条** 权利质权除适用本节规定外，参照适用本章动产质权的有关规定。\\n\\n#\\n第一节 一般规定\\n\\n**第三百五十三条** 用益物权人对他人所有的不动产或者动产，依法享有占有、使用和收益的权利。\\n\\n**第三百五十四条** 设立用益物权，当事人应当依照法律规定办理登记。\\n未经登记，不发生物权效力。\\n\\n**第三百五十五条** 用益物权人行使权利，不得损害所有权人的合法权益。\\n用益物权人不得转让、出租、担保其用益物权。法律另有规定或者当事人另有约定的除外。\\n\\n**第三百五十六条** 用益物权消灭的，登记机构应当依法办理注销登记。\\n\\n**第三百五十七条** 用益物权可以由当事人约定其内容。\\n法律、行政法规对用益物权有特别规定的，依照其规定。\\n\\n#\\n第四节 宅基地使用权\\n\\n**第三百七十七条** 宅基地使用权人依法对集体所有的土地和国家所有由集体经济组织分配给个人的土地，享有占有、使用和收益的权利，有权在宅基地上建造房屋及其附属设施。\\n\\n**第三百七十八条** 宅基地使用权的设立、行使和转让，适用法律、法规的规定。\\n\\n**第三百七十九条** 宅基地使用权人依法享有宅基地上的房屋及其附属设施的所有权。\\n宅基地使用权人有权在宅基地上建造房屋及其附属设施。\\n\\n**第三百八十条** 宅基地使用权可以转让、互换、继承。\\n转让、互换宅基地使用权的，应当依照法律规定办理登记。\\n\\n**第三百八十一条** 宅基地使用权消灭的，登记机构应当依法办理注销登记。\\n宅基地使用权人应当依照法律规定，向土地所有权人支付宅基地使用费。\\n\\n#\\n</context>\\n<question>\\n担保物权都有哪些规定?\\n</question>\\n<translated>\\n</translated>\\n'"
      ]
     },
     "execution_count": 19,
     "metadata": {},
     "output_type": "execute_result"
    }
   ],
   "source": [
    "USER_PROMPT"
   ]
  },
  {
   "cell_type": "markdown",
   "id": "184b457f",
   "metadata": {},
   "source": [
    "使用 DeepSeek 提供的 `deepseek-chat` 模型根据提示生成响应。"
   ]
  },
  {
   "cell_type": "code",
   "execution_count": 20,
   "id": "638a7561",
   "metadata": {},
   "outputs": [
    {
     "name": "stdout",
     "output_type": "stream",
     "text": [
      "担保物权的主要规定包括：\n",
      "\n",
      "1. **权利质权范围**（第四百四十九条）：\n",
      "   - 可出质权利涵盖票据（汇票/本票/支票）、金融凭证（债券/存款单）、物权凭证（仓单/提单）、基金份额/股权、知识产权财产权、应收账款及其他法定财产权利。\n",
      "\n",
      "2. **设立要件**：\n",
      "   - 票据/凭证类质权：书面合同+权利凭证交付生效（第四百五十条）\n",
      "   - 基金份额/股权：书面合同+证券登记机构登记生效（第四百五十二条）\n",
      "   - 知识产权：书面合同+相关部门登记生效（第四百五十三条）\n",
      "   - 应收账款：书面合同+央行征信中心登记生效（第四百五十四条）\n",
      "\n",
      "3. **补充适用规则**（第四百五十六条）：权利质权可参照动产质权规定。\n",
      "\n",
      "4. **用益物权相关限制**（第三百五十五条）：用益物权原则上不得担保，法律或约定除外。\n",
      "\n",
      "<translated>\n",
      "担保物权的主要规定包括：\n",
      "\n",
      "1. **权利质押范围**：\n",
      "   - 允许质押的财产权利包括各类票据、金融单据、存货凭证、投资权益、知识产权收益权、应收款项等。\n",
      "\n",
      "2. **设立程序**：\n",
      "   - 不同权利类型需分别满足书面合同+登记/交付要求\n",
      "   - 票据类需实际交付权利凭证\n",
      "   - 股权/知识产权类需完成法定登记程序\n",
      "\n",
      "3. **补充规则**：权利质押可补充适用动产质押条款\n",
      "\n",
      "4. **特殊限制**：用益物权通常不能作为担保标的（法律特殊规定除外）\n",
      "</translated>\n"
     ]
    }
   ],
   "source": [
    "response = deepseek_client.chat.completions.create(\n",
    "    model=\"deepseek-v3\",\n",
    "    messages=[\n",
    "        {\"role\": \"system\", \"content\": SYSTEM_PROMPT},\n",
    "        {\"role\": \"user\", \"content\": USER_PROMPT},\n",
    "    ],\n",
    ")\n",
    "print(response.choices[0].message.content)"
   ]
  },
  {
   "cell_type": "code",
   "execution_count": null,
   "id": "50ce3b55-7daa-4727-95bd-3b00f6aa2b03",
   "metadata": {},
   "outputs": [],
   "source": []
  }
 ],
 "metadata": {
  "kernelspec": {
   "display_name": "Python 3 (ipykernel)",
   "language": "python",
   "name": "python3"
  },
  "language_info": {
   "codemirror_mode": {
    "name": "ipython",
    "version": 3
   },
   "file_extension": ".py",
   "mimetype": "text/x-python",
   "name": "python",
   "nbconvert_exporter": "python",
   "pygments_lexer": "ipython3",
   "version": "3.13.5"
  }
 },
 "nbformat": 4,
 "nbformat_minor": 5
}
